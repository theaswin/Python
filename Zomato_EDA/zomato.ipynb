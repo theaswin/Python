{
  "nbformat": 4,
  "nbformat_minor": 0,
  "metadata": {
    "colab": {
      "name": "zomato.ipynb",
      "provenance": [],
      "collapsed_sections": []
    },
    "kernelspec": {
      "name": "python3",
      "display_name": "Python 3"
    },
    "language_info": {
      "name": "python"
    }
  },
  "cells": [
    {
      "cell_type": "code",
      "execution_count": null,
      "metadata": {
        "id": "VimUkWnj0vgP"
      },
      "outputs": [],
      "source": [
        "import pandas as pd\n",
        "import numpy as np\n",
        "import matplotlib.pyplot as plt\n",
        "import seaborn as sns\n",
        "plt.style.use('dark_background')"
      ]
    },
    {
      "cell_type": "code",
      "source": [
        "df = pd.read_csv('/contents/zomato.csv')"
      ],
      "metadata": {
        "id": "Khyw6vG44Jqg"
      },
      "execution_count": null,
      "outputs": []
    },
    {
      "cell_type": "code",
      "source": [
        "df.shape"
      ],
      "metadata": {
        "id": "AmSzsMuG4WgP"
      },
      "execution_count": null,
      "outputs": []
    },
    {
      "cell_type": "code",
      "source": [
        "df.columns"
      ],
      "metadata": {
        "id": "bIPOi0Oe4j4T"
      },
      "execution_count": null,
      "outputs": []
    },
    {
      "cell_type": "code",
      "source": [
        "# dropping all unwanted columns\n",
        "df = df.drop(['url','address','phone','menu_item','dish_linked','reviews_list'],axis = 1)\n",
        "df.head()"
      ],
      "metadata": {
        "id": "ElsYJ5nA41Pl"
      },
      "execution_count": null,
      "outputs": []
    },
    {
      "cell_type": "code",
      "source": [
        "df.info()"
      ],
      "metadata": {
        "id": "xoWHX9sw5Vsu"
      },
      "execution_count": null,
      "outputs": []
    },
    {
      "cell_type": "code",
      "source": [
        "# Remove duplicate\n",
        "df.drop_duplicate(inplace=True)\n",
        "df.shape"
      ],
      "metadata": {
        "id": "n8tEI5ba5XwD"
      },
      "execution_count": null,
      "outputs": []
    },
    {
      "cell_type": "code",
      "source": [
        "# data cleaning\n",
        "df['rate'].unique()"
      ],
      "metadata": {
        "id": "0aslIYod5xa7"
      },
      "execution_count": null,
      "outputs": []
    },
    {
      "cell_type": "code",
      "source": [
        "#  Remove /5 in rate column\n",
        "def hadlerate(value):\n",
        "  if (value == 'NEW' or value == '-'):\n",
        "    return np.nan\n",
        "  else:\n",
        "    value = str(value).split('/')\n",
        "    value = value[0]\n",
        "    return float(value)\n",
        "df['rate'] = df['rate'].apply(hadlerate)\n",
        "df.head()"
      ],
      "metadata": {
        "id": "cMf-LAIv59ex"
      },
      "execution_count": null,
      "outputs": []
    },
    {
      "cell_type": "code",
      "source": [
        "# Handling null values\n",
        "df.isnull.sum()"
      ],
      "metadata": {
        "id": "mgbXzO3R6_UA"
      },
      "execution_count": null,
      "outputs": []
    },
    {
      "cell_type": "code",
      "source": [
        "# Filling with mean\n",
        "df['rate'].fillna(df['rate'].mean(),inplace = True)\n",
        "df['rate'].isnull().sum()"
      ],
      "metadata": {
        "id": "6U-xhDWV8pKP"
      },
      "execution_count": null,
      "outputs": []
    },
    {
      "cell_type": "code",
      "source": [
        "df.info()"
      ],
      "metadata": {
        "id": "POAsGaFv8pZ3"
      },
      "execution_count": null,
      "outputs": []
    },
    {
      "cell_type": "code",
      "source": [
        "# Dropping because of so many null values\n",
        "df.dropna(inplace=True)\n",
        "df.head()"
      ],
      "metadata": {
        "id": "kNWMscFK9ERu"
      },
      "execution_count": null,
      "outputs": []
    },
    {
      "cell_type": "code",
      "source": [
        "# Renaming because of lengthy name\n",
        "df.rename(columns={'approx_cost(for two people)':'Cost2plates','listed_in(type)':'Type'},inplace=True)"
      ],
      "metadata": {
        "id": "FdF-4Fgm9lFL"
      },
      "execution_count": null,
      "outputs": []
    },
    {
      "cell_type": "code",
      "source": [
        "# Exploring locations column\n",
        "print(df['locations'].unique())\n",
        "print(df['listed_in(city)'].unique())"
      ],
      "metadata": {
        "id": "R1eBPRfB-6Oi"
      },
      "execution_count": null,
      "outputs": []
    },
    {
      "cell_type": "code",
      "source": [
        "#  dropping listed in cities\n",
        "df.drop('listed_in(city)',axis = 1)"
      ],
      "metadata": {
        "id": "pJBENQVY_uQo"
      },
      "execution_count": null,
      "outputs": []
    },
    {
      "cell_type": "code",
      "source": [
        "# removing comma\n",
        "def commaHandle(value):\n",
        "  value = str(value)\n",
        "  if ',' in value:\n",
        "    value = value.replace(',','')\n",
        "    return float(value)\n",
        "  else:\n",
        "    return float(value)\n",
        "\n",
        "df['Cost2plates'] = df['Cost2plates'].apply(commaHandle)\n",
        "df['Cost2plates'].unique()"
      ],
      "metadata": {
        "id": "L8ZIeSvNADtu"
      },
      "execution_count": null,
      "outputs": []
    },
    {
      "cell_type": "code",
      "source": [
        "# cleaning rest_type column\n",
        "df['rest_type'].value_counts()"
      ],
      "metadata": {
        "id": "aAgyPwEIBJtZ"
      },
      "execution_count": null,
      "outputs": []
    },
    {
      "cell_type": "code",
      "source": [
        "rest_types = df['rest_type'].value_counts(ascending=False)\n",
        "rest_types"
      ],
      "metadata": {
        "id": "Pp7it3fTBzJY"
      },
      "execution_count": null,
      "outputs": []
    },
    {
      "cell_type": "code",
      "source": [
        "# Clustering into less than 1000 and greater then 1000\n",
        "rest_types_lessthan1000 = rest_types[rest_types<1000]\n",
        "rest_types_lessthan1000"
      ],
      "metadata": {
        "id": "GvWfLyL2CfqK"
      },
      "execution_count": null,
      "outputs": []
    },
    {
      "cell_type": "code",
      "source": [
        "#  making a cluster that less than 1000 rest type\n",
        "def handle_rest_type(value):\n",
        "  if(value in rest_types_lessthan1000):\n",
        "    return 'others'\n",
        "  else:\n",
        "    return value\n",
        "\n",
        "df['rest_type'] = df['rest_type'].apply(handle_rest_type)\n",
        "df['rest_type'].value_counts()"
      ],
      "metadata": {
        "id": "myK24JqACyi7"
      },
      "execution_count": null,
      "outputs": []
    },
    {
      "cell_type": "code",
      "source": [
        "# location column\n",
        "df['location'].value_counts()"
      ],
      "metadata": {
        "id": "4WEAUHABEZZA"
      },
      "execution_count": null,
      "outputs": []
    },
    {
      "cell_type": "code",
      "source": [
        "location = df['location'].value_counts(ascending=False)\n",
        "location_lessthan300 = location[location<300]\n",
        "\n",
        "def location_handler(value):\n",
        "  if(value in location_lessthan300):\n",
        "    return 'others'\n",
        "  else:\n",
        "    return value\n",
        "df['location'] = df['location'].apply(location_handler)\n",
        "# clustering"
      ],
      "metadata": {
        "id": "dLqvmCnFEuVt"
      },
      "execution_count": null,
      "outputs": []
    },
    {
      "cell_type": "code",
      "source": [
        "# cuisins also clustering\n",
        "cuisines = df['cuisines'].value_counts(ascending=False)\n",
        "cuisines_lessthan100 = cuisines[cuisines<100]\n",
        "\n",
        "def cuisines_handler(value):\n",
        "  if(value in cuisines_lessthan100):\n",
        "    return 'others'\n",
        "  else:\n",
        "    return value\n",
        "\n",
        "df['location'] = df['location'].apply(location_handler)\n"
      ],
      "metadata": {
        "id": "1zbvifYUFsTN"
      },
      "execution_count": null,
      "outputs": []
    },
    {
      "cell_type": "code",
      "source": [
        "df.head()"
      ],
      "metadata": {
        "id": "_F75od1LHOMg"
      },
      "execution_count": null,
      "outputs": []
    },
    {
      "cell_type": "markdown",
      "source": [
        "####**Visualisation**"
      ],
      "metadata": {
        "id": "BpIKKINyIrYV"
      }
    },
    {
      "cell_type": "code",
      "source": [
        "# which location is good for opening a restaurent\n",
        "plt.figure(figsize=(16,10))\n",
        "ax = sns.countplot(df['location'])\n",
        "plt.xticks(rotation=90)"
      ],
      "metadata": {
        "id": "7ugwRlBsHZNW"
      },
      "execution_count": null,
      "outputs": []
    },
    {
      "cell_type": "code",
      "source": [
        "# how many of them have online oreder facilities\n",
        "plt.figure(figsize=(6,6))\n",
        "sns.countplot(df['online_order'],palette='inferno')"
      ],
      "metadata": {
        "id": "lT1Pyl-QJsvV"
      },
      "execution_count": null,
      "outputs": []
    },
    {
      "cell_type": "code",
      "source": [
        "#  how many of them have book table\n",
        "plt.figure(figsize=(6,6))\n",
        "sns.countplot(df['book_table'],palette = 'rainbow')"
      ],
      "metadata": {
        "id": "8fn-ciHOKKHO"
      },
      "execution_count": null,
      "outputs": []
    },
    {
      "cell_type": "code",
      "source": [
        "# checking online order facilities vs rate\n",
        "plt.figure(figsize = (6,6))\n",
        "sns.boxplot(x= 'online_order',y = 'rate',data = df)"
      ],
      "metadata": {
        "id": "HI19_NOpKVLt"
      },
      "execution_count": null,
      "outputs": []
    },
    {
      "cell_type": "code",
      "source": [
        "# book table vs rate\n",
        "plt.figure(figsize = (6,6))\n",
        "sns.boxplot(x= 'book_table',y = 'rate',data = df)"
      ],
      "metadata": {
        "id": "MCARR0oJLvvk"
      },
      "execution_count": null,
      "outputs": []
    },
    {
      "cell_type": "code",
      "source": [
        "df1 = df.groupby(['location','online_order'])['name'].count()\n",
        "df1.to_csv('location_online.csv')\n",
        "df1 = pd.read_csv('location_online.csv')\n",
        "df1 = pd.pivot_table(df1,values = None, index=['location'],columns=['online_order'],fill_value = 0,aggfu=np.sum)\n",
        "df1"
      ],
      "metadata": {
        "id": "lWM15oovMEXG"
      },
      "execution_count": null,
      "outputs": []
    },
    {
      "cell_type": "code",
      "source": [
        "# we get a pivot table that shows\n",
        "# location | not provide online facilities | provide online facilities \n",
        "# it shows how many hotels in that area provide online facilities"
      ],
      "metadata": {
        "id": "vCNx4abXOBMP"
      },
      "execution_count": null,
      "outputs": []
    },
    {
      "cell_type": "code",
      "source": [
        "df1.plot(kind = 'bar',figsize = (15,8))"
      ],
      "metadata": {
        "id": "M1CxDt1rN2jR"
      },
      "execution_count": null,
      "outputs": []
    },
    {
      "cell_type": "code",
      "source": [
        "df1 = df.groupby(['location','book_table'])['name'].count()\n",
        "df1.to_csv('location_book.csv')\n",
        "df1 = pd.read_csv('location_online.csv')\n",
        "df1 = pd.pivot_table(df1,values = None, index=['location'],columns=['book_table'],fill_value = 0,aggfu=np.sum)\n",
        "df1"
      ],
      "metadata": {
        "id": "GanX2VKqPhmB"
      },
      "execution_count": null,
      "outputs": []
    },
    {
      "cell_type": "code",
      "source": [
        "df1.plot(kind = 'bar',figsize = (15,8))"
      ],
      "metadata": {
        "id": "D_il98hdPwik"
      },
      "execution_count": null,
      "outputs": []
    },
    {
      "cell_type": "code",
      "source": [
        "df1 = df.groupby(['Type','rate'])['name'].count()\n",
        "df1.to_csv('Type_rate.csv')\n",
        "df1 = pd.read_csv('Type_rate.csv')\n",
        "df1 = pd.pivot_table(df1,values = None, index=['Type'],columns=['rate'],fill_value = 0,aggfu=np.sum)\n",
        "df1"
      ],
      "metadata": {
        "id": "zDiq9cE-QT1O"
      },
      "execution_count": null,
      "outputs": []
    },
    {
      "cell_type": "code",
      "source": [
        "df1.boxplot(kind = 'bar',figsize = (15,8))"
      ],
      "metadata": {
        "id": "yto_iV4yQj6Y"
      },
      "execution_count": null,
      "outputs": []
    }
  ]
}